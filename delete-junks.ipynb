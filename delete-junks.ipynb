{
 "cells": [
  {
   "cell_type": "code",
   "execution_count": 5,
   "id": "c30a33b3",
   "metadata": {},
   "outputs": [],
   "source": [
    "# create a folder named remove in outputs directory and move the low quality objects there\n",
    "# (objects that you dont want to be in your dataset) then use this code to remove them from\n",
    "# your annotation file!"
   ]
  },
  {
   "cell_type": "code",
   "execution_count": 6,
   "id": "9d6c6acd-5081-48d1-a63c-7d4e1a05691d",
   "metadata": {},
   "outputs": [],
   "source": [
    "import os\n",
    "import numpy as np"
   ]
  },
  {
   "cell_type": "code",
   "execution_count": 7,
   "id": "f778bc22-b298-4d6a-bb7d-3d8bfaee0923",
   "metadata": {},
   "outputs": [],
   "source": [
    "path = 'outputs/remove'\n",
    "LABELS = 'labels'\n",
    "\n",
    "myList = os.listdir(path)\n",
    "remove_list = []\n",
    "for e in myList:\n",
    "    remove_list.append(e.split('+'))\n",
    "    \n",
    "#remove_list = sorted(remove_list, reverse=True)\n",
    "remove_list = [[int(e[0]), e[-1]] for e in remove_list]\n",
    "remove_list.sort(reverse=True)"
   ]
  },
  {
   "cell_type": "code",
   "execution_count": 8,
   "id": "53bf3f55-7cba-40e1-9421-b95c83659b6f",
   "metadata": {},
   "outputs": [
    {
     "ename": "IndexError",
     "evalue": "pop index out of range",
     "output_type": "error",
     "traceback": [
      "\u001b[0;31m---------------------------------------------------------------------------\u001b[0m",
      "\u001b[0;31mIndexError\u001b[0m                                Traceback (most recent call last)",
      "\u001b[0;32m/tmp/ipykernel_9757/4278418461.py\u001b[0m in \u001b[0;36m<module>\u001b[0;34m\u001b[0m\n\u001b[1;32m      6\u001b[0m     \u001b[0;32melse\u001b[0m\u001b[0;34m:\u001b[0m\u001b[0;34m\u001b[0m\u001b[0;34m\u001b[0m\u001b[0m\n\u001b[1;32m      7\u001b[0m         \u001b[0mindex\u001b[0m \u001b[0;34m=\u001b[0m \u001b[0me\u001b[0m\u001b[0;34m[\u001b[0m\u001b[0;36m0\u001b[0m\u001b[0;34m]\u001b[0m\u001b[0;34m\u001b[0m\u001b[0;34m\u001b[0m\u001b[0m\n\u001b[0;32m----> 8\u001b[0;31m         \u001b[0mannotation\u001b[0m\u001b[0;34m.\u001b[0m\u001b[0mpop\u001b[0m\u001b[0;34m(\u001b[0m\u001b[0mindex\u001b[0m\u001b[0;34m)\u001b[0m\u001b[0;34m\u001b[0m\u001b[0;34m\u001b[0m\u001b[0m\n\u001b[0m\u001b[1;32m      9\u001b[0m \u001b[0;34m\u001b[0m\u001b[0m\n\u001b[1;32m     10\u001b[0m     \u001b[0mnp\u001b[0m\u001b[0;34m.\u001b[0m\u001b[0msavetxt\u001b[0m\u001b[0;34m(\u001b[0m\u001b[0mos\u001b[0m\u001b[0;34m.\u001b[0m\u001b[0mpath\u001b[0m\u001b[0;34m.\u001b[0m\u001b[0mjoin\u001b[0m\u001b[0;34m(\u001b[0m\u001b[0mLABELS\u001b[0m\u001b[0;34m,\u001b[0m \u001b[0mname\u001b[0m\u001b[0;34m)\u001b[0m\u001b[0;34m,\u001b[0m \u001b[0mannotation\u001b[0m\u001b[0;34m,\u001b[0m \u001b[0mnewline\u001b[0m\u001b[0;34m=\u001b[0m\u001b[0;34m'\\n'\u001b[0m\u001b[0;34m,\u001b[0m\u001b[0mfmt\u001b[0m\u001b[0;34m=\u001b[0m\u001b[0;34m'%.10g'\u001b[0m\u001b[0;34m)\u001b[0m\u001b[0;34m\u001b[0m\u001b[0;34m\u001b[0m\u001b[0m\n",
      "\u001b[0;31mIndexError\u001b[0m: pop index out of range"
     ]
    }
   ],
   "source": [
    "for e in remove_list:\n",
    "    name = e[-1].replace(e[-1][-4:], '.txt')\n",
    "    annotation = np.loadtxt(os.path.join(LABELS, name)).tolist()\n",
    "    if type(annotation[0]) != list:\n",
    "        annotation = []\n",
    "    else:\n",
    "        index = e[0]\n",
    "        annotation.pop(index)\n",
    "    \n",
    "    np.savetxt(os.path.join(LABELS, name), annotation, newline='\\n',fmt='%.10g')"
   ]
  },
  {
   "cell_type": "markdown",
   "id": "c820d8b8-0d31-45da-9dd4-5b4cd566c778",
   "metadata": {},
   "source": [
    "# Remove empty"
   ]
  },
  {
   "cell_type": "code",
   "execution_count": 165,
   "id": "5ab5e0f1-91b4-43dd-a8f9-fb827fc66c07",
   "metadata": {},
   "outputs": [
    {
     "name": "stderr",
     "output_type": "stream",
     "text": [
      "/tmp/ipykernel_22537/2104237731.py:2: UserWarning: loadtxt: Empty input file: \"labels/ac46b2d0-d4d1ecee_3.txt\"\n",
      "  ann = np.loadtxt(os.path.join(LABELS, label)).tolist()\n",
      "/tmp/ipykernel_22537/2104237731.py:2: UserWarning: loadtxt: Empty input file: \"labels/616400da-37370771_4.txt\"\n",
      "  ann = np.loadtxt(os.path.join(LABELS, label)).tolist()\n",
      "/tmp/ipykernel_22537/2104237731.py:2: UserWarning: loadtxt: Empty input file: \"labels/af7a1b12-56777e44_4.txt\"\n",
      "  ann = np.loadtxt(os.path.join(LABELS, label)).tolist()\n",
      "/tmp/ipykernel_22537/2104237731.py:2: UserWarning: loadtxt: Empty input file: \"labels/5edcdd04-3e567c2c_5.txt\"\n",
      "  ann = np.loadtxt(os.path.join(LABELS, label)).tolist()\n",
      "/tmp/ipykernel_22537/2104237731.py:2: UserWarning: loadtxt: Empty input file: \"labels/8a1ed05b-851b41f2_1.txt\"\n",
      "  ann = np.loadtxt(os.path.join(LABELS, label)).tolist()\n",
      "/tmp/ipykernel_22537/2104237731.py:2: UserWarning: loadtxt: Empty input file: \"labels/2b54fe2d-c5b810e6.txt\"\n",
      "  ann = np.loadtxt(os.path.join(LABELS, label)).tolist()\n",
      "/tmp/ipykernel_22537/2104237731.py:2: UserWarning: loadtxt: Empty input file: \"labels/08f6c5f0-39e91ed5.txt\"\n",
      "  ann = np.loadtxt(os.path.join(LABELS, label)).tolist()\n",
      "/tmp/ipykernel_22537/2104237731.py:2: UserWarning: loadtxt: Empty input file: \"labels/9cf54e92-dba772a5.txt\"\n",
      "  ann = np.loadtxt(os.path.join(LABELS, label)).tolist()\n",
      "/tmp/ipykernel_22537/2104237731.py:2: UserWarning: loadtxt: Empty input file: \"labels/3557a13e-146b64ca.txt\"\n",
      "  ann = np.loadtxt(os.path.join(LABELS, label)).tolist()\n",
      "/tmp/ipykernel_22537/2104237731.py:2: UserWarning: loadtxt: Empty input file: \"labels/4ba45b80-8dcba71e_3.txt\"\n",
      "  ann = np.loadtxt(os.path.join(LABELS, label)).tolist()\n",
      "/tmp/ipykernel_22537/2104237731.py:2: UserWarning: loadtxt: Empty input file: \"labels/5be604de-56d5099f_5.txt\"\n",
      "  ann = np.loadtxt(os.path.join(LABELS, label)).tolist()\n",
      "/tmp/ipykernel_22537/2104237731.py:2: UserWarning: loadtxt: Empty input file: \"labels/92baa64b-0fc1fc17.txt\"\n",
      "  ann = np.loadtxt(os.path.join(LABELS, label)).tolist()\n",
      "/tmp/ipykernel_22537/2104237731.py:2: UserWarning: loadtxt: Empty input file: \"labels/8736466_2.txt\"\n",
      "  ann = np.loadtxt(os.path.join(LABELS, label)).tolist()\n",
      "/tmp/ipykernel_22537/2104237731.py:2: UserWarning: loadtxt: Empty input file: \"labels/9b778671-716e449f_2.txt\"\n",
      "  ann = np.loadtxt(os.path.join(LABELS, label)).tolist()\n",
      "/tmp/ipykernel_22537/2104237731.py:2: UserWarning: loadtxt: Empty input file: \"labels/6aedcf34-ab58840c_7.txt\"\n",
      "  ann = np.loadtxt(os.path.join(LABELS, label)).tolist()\n",
      "/tmp/ipykernel_22537/2104237731.py:2: UserWarning: loadtxt: Empty input file: \"labels/0ecc89ce-a5dc232e_5.txt\"\n",
      "  ann = np.loadtxt(os.path.join(LABELS, label)).tolist()\n",
      "/tmp/ipykernel_22537/2104237731.py:2: UserWarning: loadtxt: Empty input file: \"labels/1d80128f-d295dcf5_6.txt\"\n",
      "  ann = np.loadtxt(os.path.join(LABELS, label)).tolist()\n",
      "/tmp/ipykernel_22537/2104237731.py:2: UserWarning: loadtxt: Empty input file: \"labels/7f133fb1-a7a711b0_3.txt\"\n",
      "  ann = np.loadtxt(os.path.join(LABELS, label)).tolist()\n",
      "/tmp/ipykernel_22537/2104237731.py:2: UserWarning: loadtxt: Empty input file: \"labels/9ccd71f3-4f569d0e_9.txt\"\n",
      "  ann = np.loadtxt(os.path.join(LABELS, label)).tolist()\n",
      "/tmp/ipykernel_22537/2104237731.py:2: UserWarning: loadtxt: Empty input file: \"labels/6ebe1b37-3401a33e.txt\"\n",
      "  ann = np.loadtxt(os.path.join(LABELS, label)).tolist()\n",
      "/tmp/ipykernel_22537/2104237731.py:2: UserWarning: loadtxt: Empty input file: \"labels/aff5ee2d-8a039c82_2.txt\"\n",
      "  ann = np.loadtxt(os.path.join(LABELS, label)).tolist()\n",
      "/tmp/ipykernel_22537/2104237731.py:2: UserWarning: loadtxt: Empty input file: \"labels/46fac08d-ad125262_3.txt\"\n",
      "  ann = np.loadtxt(os.path.join(LABELS, label)).tolist()\n",
      "/tmp/ipykernel_22537/2104237731.py:2: UserWarning: loadtxt: Empty input file: \"labels/0f17dca0-64f882e1_3.txt\"\n",
      "  ann = np.loadtxt(os.path.join(LABELS, label)).tolist()\n",
      "/tmp/ipykernel_22537/2104237731.py:2: UserWarning: loadtxt: Empty input file: \"labels/55a099f0-531f5743_6.txt\"\n",
      "  ann = np.loadtxt(os.path.join(LABELS, label)).tolist()\n",
      "/tmp/ipykernel_22537/2104237731.py:2: UserWarning: loadtxt: Empty input file: \"labels/0f17dca0-64f882e1_1.txt\"\n",
      "  ann = np.loadtxt(os.path.join(LABELS, label)).tolist()\n",
      "/tmp/ipykernel_22537/2104237731.py:2: UserWarning: loadtxt: Empty input file: \"labels/4ca0894d-8ae6d1d7_2.txt\"\n",
      "  ann = np.loadtxt(os.path.join(LABELS, label)).tolist()\n",
      "/tmp/ipykernel_22537/2104237731.py:2: UserWarning: loadtxt: Empty input file: \"labels/7b3a1ca9-e7cd18f1_4.txt\"\n",
      "  ann = np.loadtxt(os.path.join(LABELS, label)).tolist()\n",
      "/tmp/ipykernel_22537/2104237731.py:2: UserWarning: loadtxt: Empty input file: \"labels/6b7feb1a-819ae07a_3.txt\"\n",
      "  ann = np.loadtxt(os.path.join(LABELS, label)).tolist()\n",
      "/tmp/ipykernel_22537/2104237731.py:2: UserWarning: loadtxt: Empty input file: \"labels/2a7a4866-70517e18_5.txt\"\n",
      "  ann = np.loadtxt(os.path.join(LABELS, label)).tolist()\n",
      "/tmp/ipykernel_22537/2104237731.py:2: UserWarning: loadtxt: Empty input file: \"labels/420fb34a-27328a7f_3.txt\"\n",
      "  ann = np.loadtxt(os.path.join(LABELS, label)).tolist()\n",
      "/tmp/ipykernel_22537/2104237731.py:2: UserWarning: loadtxt: Empty input file: \"labels/8c387a29-36b1bb72_3.txt\"\n",
      "  ann = np.loadtxt(os.path.join(LABELS, label)).tolist()\n",
      "/tmp/ipykernel_22537/2104237731.py:2: UserWarning: loadtxt: Empty input file: \"labels/b178ca72-cd72c569_3.txt\"\n",
      "  ann = np.loadtxt(os.path.join(LABELS, label)).tolist()\n",
      "/tmp/ipykernel_22537/2104237731.py:2: UserWarning: loadtxt: Empty input file: \"labels/0ca8d9fa-0aadd2ca_3.txt\"\n",
      "  ann = np.loadtxt(os.path.join(LABELS, label)).tolist()\n",
      "/tmp/ipykernel_22537/2104237731.py:2: UserWarning: loadtxt: Empty input file: \"labels/2fc2f3c0-6ce430c9.txt\"\n",
      "  ann = np.loadtxt(os.path.join(LABELS, label)).tolist()\n",
      "/tmp/ipykernel_22537/2104237731.py:2: UserWarning: loadtxt: Empty input file: \"labels/1e3a1c38-36f2a4fe.txt\"\n",
      "  ann = np.loadtxt(os.path.join(LABELS, label)).tolist()\n",
      "/tmp/ipykernel_22537/2104237731.py:2: UserWarning: loadtxt: Empty input file: \"labels/8891666c-aaff9902_3.txt\"\n",
      "  ann = np.loadtxt(os.path.join(LABELS, label)).tolist()\n",
      "/tmp/ipykernel_22537/2104237731.py:2: UserWarning: loadtxt: Empty input file: \"labels/694500b9-dca8e47b_11.txt\"\n",
      "  ann = np.loadtxt(os.path.join(LABELS, label)).tolist()\n",
      "/tmp/ipykernel_22537/2104237731.py:2: UserWarning: loadtxt: Empty input file: \"labels/3a2c9062-0cb2922f.txt\"\n",
      "  ann = np.loadtxt(os.path.join(LABELS, label)).tolist()\n",
      "/tmp/ipykernel_22537/2104237731.py:2: UserWarning: loadtxt: Empty input file: \"labels/7d2fb47f-57528a35_3.txt\"\n",
      "  ann = np.loadtxt(os.path.join(LABELS, label)).tolist()\n",
      "/tmp/ipykernel_22537/2104237731.py:2: UserWarning: loadtxt: Empty input file: \"labels/4f838541-810ee3f1_5.txt\"\n",
      "  ann = np.loadtxt(os.path.join(LABELS, label)).tolist()\n",
      "/tmp/ipykernel_22537/2104237731.py:2: UserWarning: loadtxt: Empty input file: \"labels/9b778671-716e449f.txt\"\n",
      "  ann = np.loadtxt(os.path.join(LABELS, label)).tolist()\n",
      "/tmp/ipykernel_22537/2104237731.py:2: UserWarning: loadtxt: Empty input file: \"labels/6ce28c96-fd8c7942_6.txt\"\n",
      "  ann = np.loadtxt(os.path.join(LABELS, label)).tolist()\n",
      "/tmp/ipykernel_22537/2104237731.py:2: UserWarning: loadtxt: Empty input file: \"labels/1245292.txt\"\n",
      "  ann = np.loadtxt(os.path.join(LABELS, label)).tolist()\n",
      "/tmp/ipykernel_22537/2104237731.py:2: UserWarning: loadtxt: Empty input file: \"labels/036f7358-e26ae65d_2.txt\"\n",
      "  ann = np.loadtxt(os.path.join(LABELS, label)).tolist()\n",
      "/tmp/ipykernel_22537/2104237731.py:2: UserWarning: loadtxt: Empty input file: \"labels/93d5292b-4995da4a_3.txt\"\n",
      "  ann = np.loadtxt(os.path.join(LABELS, label)).tolist()\n",
      "/tmp/ipykernel_22537/2104237731.py:2: UserWarning: loadtxt: Empty input file: \"labels/8891666c-aaff9902_1.txt\"\n",
      "  ann = np.loadtxt(os.path.join(LABELS, label)).tolist()\n",
      "/tmp/ipykernel_22537/2104237731.py:2: UserWarning: loadtxt: Empty input file: \"labels/6d856a6e-a225aee7_2.txt\"\n",
      "  ann = np.loadtxt(os.path.join(LABELS, label)).tolist()\n",
      "/tmp/ipykernel_22537/2104237731.py:2: UserWarning: loadtxt: Empty input file: \"labels/203hsd (123).txt\"\n",
      "  ann = np.loadtxt(os.path.join(LABELS, label)).tolist()\n",
      "/tmp/ipykernel_22537/2104237731.py:2: UserWarning: loadtxt: Empty input file: \"labels/8b2e618a-7bc3c130_2.txt\"\n",
      "  ann = np.loadtxt(os.path.join(LABELS, label)).tolist()\n"
     ]
    }
   ],
   "source": [
    "for label in os.listdir(LABELS):\n",
    "    ann = np.loadtxt(os.path.join(LABELS, label)).tolist()\n",
    "    img = label.replace(label[-4:], '.jpg')\n",
    "    if ann == []:\n",
    "        os.remove(os.path.join('images', img))"
   ]
  },
  {
   "cell_type": "code",
   "execution_count": null,
   "id": "b669d2e1-b9d3-46ac-b6a0-457bb6edf5ed",
   "metadata": {},
   "outputs": [],
   "source": []
  }
 ],
 "metadata": {
  "kernelspec": {
   "display_name": "Python 3 (ipykernel)",
   "language": "python",
   "name": "python3"
  },
  "language_info": {
   "codemirror_mode": {
    "name": "ipython",
    "version": 3
   },
   "file_extension": ".py",
   "mimetype": "text/x-python",
   "name": "python",
   "nbconvert_exporter": "python",
   "pygments_lexer": "ipython3",
   "version": "3.8.10"
  }
 },
 "nbformat": 4,
 "nbformat_minor": 5
}
